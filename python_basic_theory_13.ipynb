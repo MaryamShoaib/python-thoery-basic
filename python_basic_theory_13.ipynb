{
  "nbformat": 4,
  "nbformat_minor": 0,
  "metadata": {
    "colab": {
      "provenance": []
    },
    "kernelspec": {
      "name": "python3",
      "display_name": "Python 3"
    },
    "language_info": {
      "name": "python"
    }
  },
  "cells": [
    {
      "cell_type": "markdown",
      "source": [
        "1. What advantages do Excel spreadsheets have over CSV spreadsheets?\n",
        "\n",
        "  In Excel, spreadsheets can have values of data types other than strings; cells can have different fonts, sizes, or color settings; cells can have varying widths and heights; adjacent cells can be merged; and you can embed images and charts."
      ],
      "metadata": {
        "id": "iBvmoGfubaHi"
      }
    },
    {
      "cell_type": "markdown",
      "source": [
        "Q. What advantages do Excel spreadsheets have over CSV spreadsheets?\n",
        "\n",
        "\n",
        "1. It is a binary file that holds information about all the worksheets in a workbook\n",
        "2. An Excel not only stores data but can also do operations on the data\n",
        "3. Files saved in excel cannot be opened or edited by text editors\n",
        "4. Large files user is much easier in Excel for the end user. Also, you can have additional functions like selecting individual cells for import, convert dates and time automatically, reading formulas and their results, filters, sorting, etc\n",
        "5. Apart from text, data can also be stored in form of charts and graphs\n",
        "6. Excel can connect to external data sources to fetch data. You can use custom add-in in Excel to increase its functionality.\n",
        "7. Excel allows for Review of Data with detailed tracking and commenting feature\n",
        "8. In Excel, spreadsheets can have values of data types other than strings; cells can have different fonts, sizes, or color settings; cells can have varying widths and heights; adjacent cells can be merged\n",
        "\n",
        "\n"
      ],
      "metadata": {
        "id": "xKVf48I3bdS6"
      }
    },
    {
      "cell_type": "markdown",
      "source": [
        "2.What do you pass to csv.reader() and csv.writer() to create reader and writer objects?\n",
        "\n",
        "  You pass a File object, obtained from a call to open()."
      ],
      "metadata": {
        "id": "5Xp8vV4OcyuV"
      }
    },
    {
      "cell_type": "markdown",
      "source": [
        "3. What modes do File objects for reader and writer objects need to be opened in?\n",
        "\n",
        "  File objects need to be opened in read-binary ('rb') for reader objects and write-binary ('wb') for writer objects."
      ],
      "metadata": {
        "id": "3X51h517dB58"
      }
    },
    {
      "cell_type": "markdown",
      "source": [
        "4. What method takes a list argument and writes it to a CSV file?\n",
        "\n",
        "  The writerow() method"
      ],
      "metadata": {
        "id": "aIwd4eEadNnU"
      }
    },
    {
      "cell_type": "markdown",
      "source": [
        "5. What do the keyword arguments delimiter and line terminator do?\n",
        "\n",
        "  The delimiter argument changes the string used to separate cells in a row. The lineterminator argument changes the string used to separate rows."
      ],
      "metadata": {
        "id": "wdyB7hh3dfHx"
      }
    },
    {
      "cell_type": "markdown",
      "source": [
        "6. What function takes a string of JSON data and returns a Python data structure?\n",
        "\n",
        "  json.loads()"
      ],
      "metadata": {
        "id": "Ekp-zNf4drNg"
      }
    },
    {
      "cell_type": "markdown",
      "source": [
        "7. What function takes a Python data structure and returns a string of JSON data?\n",
        "\n",
        "  json.dumps()"
      ],
      "metadata": {
        "id": "MLpmI6rfdzXR"
      }
    }
  ]
}