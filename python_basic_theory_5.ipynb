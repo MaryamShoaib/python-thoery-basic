{
  "nbformat": 4,
  "nbformat_minor": 0,
  "metadata": {
    "colab": {
      "provenance": []
    },
    "kernelspec": {
      "name": "python3",
      "display_name": "Python 3"
    },
    "language_info": {
      "name": "python"
    }
  },
  "cells": [
    {
      "cell_type": "markdown",
      "source": [
        "1. What does an empty dictionary's code look like?\n",
        "\n",
        "  Two curly brackets: {}"
      ],
      "metadata": {
        "id": "ppeS-8kbYGi2"
      }
    },
    {
      "cell_type": "markdown",
      "source": [
        "2. What is the value of a dictionary value with the key 'foo' and the value 42?\n"
      ],
      "metadata": {
        "id": "4p-DXAyFYIAt"
      }
    },
    {
      "cell_type": "code",
      "source": [
        "{\"foo\": 42}"
      ],
      "metadata": {
        "colab": {
          "base_uri": "https://localhost:8080/"
        },
        "id": "1L1VFQV1YU98",
        "outputId": "c4ba6397-126a-40ed-fdb8-6e809bc0cf96"
      },
      "execution_count": 1,
      "outputs": [
        {
          "output_type": "execute_result",
          "data": {
            "text/plain": [
              "{'foo': 42}"
            ]
          },
          "metadata": {},
          "execution_count": 1
        }
      ]
    },
    {
      "cell_type": "markdown",
      "source": [
        "3. What is the most significant distinction between a dictionary and a list?\n",
        "\n",
        "  The items stored in a dictionary are unordered, while the items in a list are ordered."
      ],
      "metadata": {
        "id": "gg580gpJYgxC"
      }
    },
    {
      "cell_type": "markdown",
      "source": [
        "4. What happens if you try to access spam['foo'] if spam is {'bar': 100}?"
      ],
      "metadata": {
        "id": "q29Wy_pVYsk-"
      }
    },
    {
      "cell_type": "code",
      "source": [
        "spam = {'bar': 100}\n",
        "spam['foo']"
      ],
      "metadata": {
        "colab": {
          "base_uri": "https://localhost:8080/",
          "height": 183
        },
        "id": "h4EUNd1mYXhf",
        "outputId": "550790f8-ce6c-4a05-d618-9e0bcbd8fc99"
      },
      "execution_count": 2,
      "outputs": [
        {
          "output_type": "error",
          "ename": "KeyError",
          "evalue": "ignored",
          "traceback": [
            "\u001b[0;31m---------------------------------------------------------------------------\u001b[0m",
            "\u001b[0;31mKeyError\u001b[0m                                  Traceback (most recent call last)",
            "\u001b[0;32m<ipython-input-2-56a8e50c7ff8>\u001b[0m in \u001b[0;36m<module>\u001b[0;34m\u001b[0m\n\u001b[1;32m      1\u001b[0m \u001b[0mspam\u001b[0m \u001b[0;34m=\u001b[0m \u001b[0;34m{\u001b[0m\u001b[0;34m'bar'\u001b[0m\u001b[0;34m:\u001b[0m \u001b[0;36m100\u001b[0m\u001b[0;34m}\u001b[0m\u001b[0;34m\u001b[0m\u001b[0;34m\u001b[0m\u001b[0m\n\u001b[0;32m----> 2\u001b[0;31m \u001b[0mspam\u001b[0m\u001b[0;34m[\u001b[0m\u001b[0;34m'foo'\u001b[0m\u001b[0;34m]\u001b[0m\u001b[0;34m\u001b[0m\u001b[0;34m\u001b[0m\u001b[0m\n\u001b[0m",
            "\u001b[0;31mKeyError\u001b[0m: 'foo'"
          ]
        }
      ]
    },
    {
      "cell_type": "markdown",
      "source": [
        "5. If a dictionary is stored in spam, what is the difference between the expressions 'cat' in spam and 'cat' in spam.keys()?\n",
        "\n",
        "  There is no difference. The in operator checks whether a value exists as a key in the dictionary."
      ],
      "metadata": {
        "id": "E2MU8Z6NZ3Db"
      }
    },
    {
      "cell_type": "markdown",
      "source": [
        "6. If a dictionary is stored in spam, what is the difference between the expressions 'cat' in spam and 'cat' in spam.values()?\n",
        "\n",
        "  'cat' in spam checks whether there is a 'cat' key in the dictionary, while 'cat' in spam.values() checks whether there is a value 'cat' for one of the keys in spam."
      ],
      "metadata": {
        "id": "38q5aMf7aG1N"
      }
    },
    {
      "cell_type": "markdown",
      "source": [
        "7. What is a shortcut for the following code?\n",
        "\n",
        "  if 'color' not in spam: spam['color'] = 'black'\n",
        "\n",
        "  spam.setdefault('color', 'black')"
      ],
      "metadata": {
        "id": "mrkTsmAXaVMW"
      }
    },
    {
      "cell_type": "markdown",
      "source": [
        "8. How do you \"pretty print\" dictionary values using which module and function?\n",
        "\n",
        "  pprint.pprint()"
      ],
      "metadata": {
        "id": "t6J8vBibaaGU"
      }
    }
  ]
}