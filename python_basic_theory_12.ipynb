{
  "nbformat": 4,
  "nbformat_minor": 0,
  "metadata": {
    "colab": {
      "provenance": []
    },
    "kernelspec": {
      "name": "python3",
      "display_name": "Python 3"
    },
    "language_info": {
      "name": "python"
    }
  },
  "cells": [
    {
      "cell_type": "markdown",
      "source": [
        "1. In what modes should the PdfFileReader() and PdfFileWriter() File objects will be opened?\n",
        "\n",
        "  Read-binary ('rb') for PdfFileReader() and write-binary ('wb') for PdfFileWriter()"
      ],
      "metadata": {
        "id": "BY2ibU18U9Sx"
      }
    },
    {
      "cell_type": "markdown",
      "source": [
        "2. From a PdfFileReader object, how do you get a Page object for page 5?\n",
        "\n",
        "  Calling getPage(4) will return a Page object for page 5, since page 0 is the first page."
      ],
      "metadata": {
        "id": "AhzthKrsXmw9"
      }
    },
    {
      "cell_type": "markdown",
      "source": [
        "3. What PdfFileReader variable stores the number of pages in the PDF document?\n",
        "\n",
        "  The numPages variable stores an integer of the number of pages in the PdfFileReader object."
      ],
      "metadata": {
        "id": "KUsL-DpOYBzi"
      }
    },
    {
      "cell_type": "markdown",
      "source": [
        "4. If a PdfFileReader object’s PDF is encrypted with the password swordfish, what must you do before you can obtain Page objects from it?\n",
        "\n",
        "  Call decrypt('swordfish')."
      ],
      "metadata": {
        "id": "3lY--n01YOxm"
      }
    },
    {
      "cell_type": "markdown",
      "source": [
        "5. What methods do you use to rotate a page?\n",
        "\n",
        "\n",
        "  The rotateClockwise() and rotateCounterClockwise() methods. The degrees to rotate is passed as an integer argument."
      ],
      "metadata": {
        "id": "NSj-UO-HYZuf"
      }
    },
    {
      "cell_type": "markdown",
      "source": [
        "6. What is the difference between a Run object and a Paragraph object?\n",
        "\n",
        "  A document contains multiple paragraphs. A paragraph begins on a new line and contains multiple runs. Runs are contiguous groups of characters within a paragraph."
      ],
      "metadata": {
        "id": "8HvU0Ku5Ytou"
      }
    },
    {
      "cell_type": "markdown",
      "source": [
        "7. How do you obtain a list of Paragraph objects for a Document object that’s stored in a variable named doc?\n",
        "\n",
        "  Use doc.paragraphs."
      ],
      "metadata": {
        "id": "UMg3ZroqZWJi"
      }
    },
    {
      "cell_type": "markdown",
      "source": [
        "8. What type of object has bold, underline, italic, strike, and outline variables?\n",
        "\n",
        "  A Run object has these variables (not a Paragraph)."
      ],
      "metadata": {
        "id": "z_CUdnx2ZnKh"
      }
    },
    {
      "cell_type": "markdown",
      "source": [
        "9. What is the difference between False, True, and None for the bold variable?\n",
        "\n",
        "  True always makes the Run object bolded and False makes it always not bolded, no matter what the style’s bold setting is. None will make the Run object just use the style’s bold setting."
      ],
      "metadata": {
        "id": "Jyx4PX1KZwDH"
      }
    },
    {
      "cell_type": "markdown",
      "source": [
        "10. How do you create a Document object for a new Word document?\n",
        "\n",
        "  Call the docx.Document() function."
      ],
      "metadata": {
        "id": "BsrVHODVZ9Df"
      }
    },
    {
      "cell_type": "markdown",
      "source": [
        "11. How do you add a paragraph with the text 'Hello, there!' to a Document object stored in a variable named doc?\n",
        "\n",
        "  doc.add_paragraph('Hello there!')"
      ],
      "metadata": {
        "id": "K8fpU7MsaMMT"
      }
    },
    {
      "cell_type": "markdown",
      "source": [
        "12. What integers represent the levels of headings available in Word documents?\n",
        "\n",
        "  The integers 0, 1, 2, 3, and 4"
      ],
      "metadata": {
        "id": "7xk1HjWuaSPY"
      }
    }
  ]
}