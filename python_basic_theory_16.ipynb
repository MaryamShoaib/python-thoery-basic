{
  "nbformat": 4,
  "nbformat_minor": 0,
  "metadata": {
    "colab": {
      "provenance": []
    },
    "kernelspec": {
      "name": "python3",
      "display_name": "Python 3"
    },
    "language_info": {
      "name": "python"
    }
  },
  "cells": [
    {
      "cell_type": "markdown",
      "source": [
        "1. Create a list called years_list, starting with the year of your birth, and each year thereafter until the year of your fifth birthday. For example, if you were born in 1980. the list would be years_list = [1980, 1981, 1982, 1983, 1984, 1985]."
      ],
      "metadata": {
        "id": "9FIRD9HB6HDO"
      }
    },
    {
      "cell_type": "code",
      "execution_count": 1,
      "metadata": {
        "id": "LnzpJDik6GTZ"
      },
      "outputs": [],
      "source": [
        "years_list = [1989, 1990, 1991, 1992, 1993, 1994]"
      ]
    },
    {
      "cell_type": "markdown",
      "source": [
        "2. In which year in years_list was your third birthday? Remember, you were 0 years of age for your first year."
      ],
      "metadata": {
        "id": "5z-q8WOW7DU6"
      }
    },
    {
      "cell_type": "code",
      "source": [
        "years_list[3]"
      ],
      "metadata": {
        "colab": {
          "base_uri": "https://localhost:8080/"
        },
        "id": "0z_8q4bW6-pA",
        "outputId": "5b9dfdcb-5b6e-4ea0-fe5e-c878553f4989"
      },
      "execution_count": 2,
      "outputs": [
        {
          "output_type": "execute_result",
          "data": {
            "text/plain": [
              "1992"
            ]
          },
          "metadata": {},
          "execution_count": 2
        }
      ]
    },
    {
      "cell_type": "markdown",
      "source": [
        "3.In the years list, which year were you the oldest?"
      ],
      "metadata": {
        "id": "7gdsHfyi7ZKf"
      }
    },
    {
      "cell_type": "code",
      "source": [
        "years_list[-1]"
      ],
      "metadata": {
        "colab": {
          "base_uri": "https://localhost:8080/"
        },
        "id": "S_zTxnpa7MWQ",
        "outputId": "a6d3e464-9555-4b76-951b-53139b6a4af4"
      },
      "execution_count": 3,
      "outputs": [
        {
          "output_type": "execute_result",
          "data": {
            "text/plain": [
              "1994"
            ]
          },
          "metadata": {},
          "execution_count": 3
        }
      ]
    },
    {
      "cell_type": "markdown",
      "source": [
        "4. Make a list called things with these three strings as elements: \"mozzarella\", \"cinderella\", \"salmonella\"."
      ],
      "metadata": {
        "id": "rbNwI6qS7m8E"
      }
    },
    {
      "cell_type": "code",
      "source": [
        "things = ['mozzarella', 'cinderella', 'samlmonella']"
      ],
      "metadata": {
        "id": "PFJtuA217glh"
      },
      "execution_count": 4,
      "outputs": []
    },
    {
      "cell_type": "markdown",
      "source": [
        "5. Capitalize the element in things that refers to a person and then print the list. Did it change the element in the list?"
      ],
      "metadata": {
        "id": "pNn7sO_f8Nko"
      }
    },
    {
      "cell_type": "code",
      "source": [
        "things[1].capitalize()"
      ],
      "metadata": {
        "colab": {
          "base_uri": "https://localhost:8080/",
          "height": 35
        },
        "id": "3mPgPOUl75NC",
        "outputId": "c1031bef-45db-4191-d501-02f81b9bf637"
      },
      "execution_count": 5,
      "outputs": [
        {
          "output_type": "execute_result",
          "data": {
            "text/plain": [
              "'Cinderella'"
            ],
            "application/vnd.google.colaboratory.intrinsic+json": {
              "type": "string"
            }
          },
          "metadata": {},
          "execution_count": 5
        }
      ]
    },
    {
      "cell_type": "markdown",
      "source": [
        "6. Make a surprise list with the elements \"Groucho,\" \"Chico,\" and \"Harpo.\""
      ],
      "metadata": {
        "id": "_SfU2xXy8n-H"
      }
    },
    {
      "cell_type": "code",
      "source": [
        "surprise = [\"Groucho\", \"Chico\",\"Harpo\"]"
      ],
      "metadata": {
        "id": "zpggoVaq8dhO"
      },
      "execution_count": 6,
      "outputs": []
    },
    {
      "cell_type": "markdown",
      "source": [
        "7. Lowercase the last element of the surprise list, reverse it, and then capitalize it."
      ],
      "metadata": {
        "id": "XXusO4ZN9DXb"
      }
    },
    {
      "cell_type": "code",
      "source": [
        "surprise[-1].lower()"
      ],
      "metadata": {
        "colab": {
          "base_uri": "https://localhost:8080/",
          "height": 35
        },
        "id": "X_TSSyMF86_2",
        "outputId": "107d4589-0ad0-402f-d8b2-4101b4f46a0e"
      },
      "execution_count": 7,
      "outputs": [
        {
          "output_type": "execute_result",
          "data": {
            "text/plain": [
              "'harpo'"
            ],
            "application/vnd.google.colaboratory.intrinsic+json": {
              "type": "string"
            }
          },
          "metadata": {},
          "execution_count": 7
        }
      ]
    },
    {
      "cell_type": "code",
      "source": [
        "surprise[-1][::-1]"
      ],
      "metadata": {
        "colab": {
          "base_uri": "https://localhost:8080/",
          "height": 35
        },
        "id": "77CkffmC9Qq2",
        "outputId": "c45488db-74fe-4957-b89c-73505b5ea266"
      },
      "execution_count": 16,
      "outputs": [
        {
          "output_type": "execute_result",
          "data": {
            "text/plain": [
              "'opraH'"
            ],
            "application/vnd.google.colaboratory.intrinsic+json": {
              "type": "string"
            }
          },
          "metadata": {},
          "execution_count": 16
        }
      ]
    },
    {
      "cell_type": "code",
      "source": [
        "surprise[-1].capitalize()"
      ],
      "metadata": {
        "colab": {
          "base_uri": "https://localhost:8080/",
          "height": 35
        },
        "id": "XkEouRSr_E_B",
        "outputId": "dab85017-eae9-4178-e36c-4875b3cf7298"
      },
      "execution_count": 17,
      "outputs": [
        {
          "output_type": "execute_result",
          "data": {
            "text/plain": [
              "'Harpo'"
            ],
            "application/vnd.google.colaboratory.intrinsic+json": {
              "type": "string"
            }
          },
          "metadata": {},
          "execution_count": 17
        }
      ]
    },
    {
      "cell_type": "markdown",
      "source": [
        "8. Make an English-to-French dictionary called e2f and print it. Here are your starter words: dog is chien, cat is chat, and walrus is morse."
      ],
      "metadata": {
        "id": "gI6ezf73b3ly"
      }
    },
    {
      "cell_type": "code",
      "source": [
        "e2f = {\"dog\" : \"chien\", \"cat\": \"chat\", \"walrus\": \"morse\"}"
      ],
      "metadata": {
        "id": "XBwS8tW5_f9W"
      },
      "execution_count": 1,
      "outputs": []
    },
    {
      "cell_type": "markdown",
      "source": [
        "9. Write the French word for walrus in your three-word dictionary e2f."
      ],
      "metadata": {
        "id": "GXyFTFKbcRlA"
      }
    },
    {
      "cell_type": "code",
      "source": [
        "e2f['walrus']"
      ],
      "metadata": {
        "colab": {
          "base_uri": "https://localhost:8080/",
          "height": 35
        },
        "id": "gKAtiowvcLEY",
        "outputId": "212fa4c5-45ec-4c8a-ae21-09420e49aebf"
      },
      "execution_count": 2,
      "outputs": [
        {
          "output_type": "execute_result",
          "data": {
            "text/plain": [
              "'morse'"
            ],
            "application/vnd.google.colaboratory.intrinsic+json": {
              "type": "string"
            }
          },
          "metadata": {},
          "execution_count": 2
        }
      ]
    },
    {
      "cell_type": "markdown",
      "source": [
        "10. Make a French-to-English dictionary called f2e from e2f. Use the items method."
      ],
      "metadata": {
        "id": "QWjS9iKTckGr"
      }
    },
    {
      "cell_type": "code",
      "source": [
        "f2e = {}\n",
        "for english, french in e2f.items():\n",
        "  f2e[french] = english"
      ],
      "metadata": {
        "id": "vEOGS5E9cYKj"
      },
      "execution_count": 3,
      "outputs": []
    },
    {
      "cell_type": "code",
      "source": [
        "f2e"
      ],
      "metadata": {
        "colab": {
          "base_uri": "https://localhost:8080/"
        },
        "id": "f7p1AwdThsvf",
        "outputId": "7218baf8-79da-4a4d-c621-9859c2609937"
      },
      "execution_count": 4,
      "outputs": [
        {
          "output_type": "execute_result",
          "data": {
            "text/plain": [
              "{'chien': 'dog', 'chat': 'cat', 'morse': 'walrus'}"
            ]
          },
          "metadata": {},
          "execution_count": 4
        }
      ]
    },
    {
      "cell_type": "markdown",
      "source": [
        "11. Print the English version of the French word chien using f2e."
      ],
      "metadata": {
        "id": "WMPORwGXh3RG"
      }
    },
    {
      "cell_type": "code",
      "source": [
        "f2e['chien']"
      ],
      "metadata": {
        "colab": {
          "base_uri": "https://localhost:8080/",
          "height": 35
        },
        "id": "J--tPt5vhtxh",
        "outputId": "aa94ec08-e711-45e7-ce99-eb9b6451649f"
      },
      "execution_count": 5,
      "outputs": [
        {
          "output_type": "execute_result",
          "data": {
            "text/plain": [
              "'dog'"
            ],
            "application/vnd.google.colaboratory.intrinsic+json": {
              "type": "string"
            }
          },
          "metadata": {},
          "execution_count": 5
        }
      ]
    },
    {
      "cell_type": "markdown",
      "source": [
        "12. Make and print a set of English words from the keys in e2f."
      ],
      "metadata": {
        "id": "0ZaZ5gChiLiu"
      }
    },
    {
      "cell_type": "code",
      "source": [
        "set(e2f.keys())"
      ],
      "metadata": {
        "colab": {
          "base_uri": "https://localhost:8080/"
        },
        "id": "RmVogZ7WiBg8",
        "outputId": "74936a08-0956-4776-a186-526ca3af5149"
      },
      "execution_count": 6,
      "outputs": [
        {
          "output_type": "execute_result",
          "data": {
            "text/plain": [
              "{'cat', 'dog', 'walrus'}"
            ]
          },
          "metadata": {},
          "execution_count": 6
        }
      ]
    },
    {
      "cell_type": "markdown",
      "source": [
        "13. Make a multilevel dictionary called life. Use these strings for the topmost keys: 'animals', 'plants', and 'other'. Make the 'animals' key refer to another dictionary with the keys 'cats', 'octopi', and 'emus'. Make the 'cats' key refer to a list of strings with the values 'Henri', 'Grumpy', and 'Lucy'. Make all the other keys refer to empty dictionaries."
      ],
      "metadata": {
        "id": "PLmZFwKviYbL"
      }
    },
    {
      "cell_type": "code",
      "source": [
        "life = {'animals':{'cats':[\"Henri\", \"Grumpy\", \"Lucy\"], \"octopi\":{}, \"emus\":{}}, \"plants\": {}, \"others\": {}}"
      ],
      "metadata": {
        "id": "XgGyhY4BiSiR"
      },
      "execution_count": 8,
      "outputs": []
    },
    {
      "cell_type": "markdown",
      "source": [
        "14. Print the top-level keys of life."
      ],
      "metadata": {
        "id": "y4t5-0CRj41n"
      }
    },
    {
      "cell_type": "code",
      "source": [
        "print(life.keys())"
      ],
      "metadata": {
        "colab": {
          "base_uri": "https://localhost:8080/"
        },
        "id": "FPhQMs0YjjEo",
        "outputId": "2ae80919-40c5-4cef-b30b-2b270e3477fa"
      },
      "execution_count": 9,
      "outputs": [
        {
          "output_type": "stream",
          "name": "stdout",
          "text": [
            "dict_keys(['animals', 'plants', 'others'])\n"
          ]
        }
      ]
    },
    {
      "cell_type": "markdown",
      "source": [
        "15. Print the keys for life['animals']."
      ],
      "metadata": {
        "id": "GpKpJihPkUM3"
      }
    },
    {
      "cell_type": "code",
      "source": [
        "print(life[\"animals\"].keys())"
      ],
      "metadata": {
        "colab": {
          "base_uri": "https://localhost:8080/"
        },
        "id": "Gn0EQ8DxkM47",
        "outputId": "b2c4f9fa-848a-48d8-94ab-6b421718a2d2"
      },
      "execution_count": 11,
      "outputs": [
        {
          "output_type": "stream",
          "name": "stdout",
          "text": [
            "dict_keys(['cats', 'octopi', 'emus'])\n"
          ]
        }
      ]
    },
    {
      "cell_type": "markdown",
      "source": [
        "16. Print the values for life['animals']['cats']"
      ],
      "metadata": {
        "id": "1VLYU1EgkvKE"
      }
    },
    {
      "cell_type": "code",
      "source": [
        "print(life['animals']['cats'])"
      ],
      "metadata": {
        "colab": {
          "base_uri": "https://localhost:8080/"
        },
        "id": "u_0-cvvbkpKP",
        "outputId": "5218926a-de8c-49c0-8e4f-a5b6d832188c"
      },
      "execution_count": 12,
      "outputs": [
        {
          "output_type": "stream",
          "name": "stdout",
          "text": [
            "['Henri', 'Grumpy', 'Lucy']\n"
          ]
        }
      ]
    }
  ]
}