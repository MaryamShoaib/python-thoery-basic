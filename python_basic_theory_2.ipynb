{
  "nbformat": 4,
  "nbformat_minor": 0,
  "metadata": {
    "colab": {
      "provenance": []
    },
    "kernelspec": {
      "name": "python3",
      "display_name": "Python 3"
    },
    "language_info": {
      "name": "python"
    }
  },
  "cells": [
    {
      "cell_type": "markdown",
      "source": [
        "1.What are the two values of the Boolean data type? How do you write them?\n",
        "\n",
        "The two values of the boolean data type are \"True\" and \"False\". It is written as True and False."
      ],
      "metadata": {
        "id": "l12lr1dhtuWm"
      }
    },
    {
      "cell_type": "markdown",
      "source": [
        "2. What are the three different types of Boolean operators?\n",
        "\n",
        "The three types of boolean operators are AND, OR and NOT."
      ],
      "metadata": {
        "id": "rSp809wOuHrL"
      }
    },
    {
      "cell_type": "markdown",
      "source": [
        "3. Make a list of each Boolean operator's truth tables (i.e. every possible combination of Boolean values for the operator and what it evaluate ).\n",
        "\n",
        "True AND True is True.\n",
        "\n",
        "True AND False is False.\n",
        "\n",
        "False AND True is False.\n",
        "\n",
        "False AND False is False.\n",
        "\n",
        "True OR True is True.\n",
        "\n",
        "True OR False is True.\n",
        "\n",
        "False OR True is True.\n",
        "\n",
        "False OR False is False.\n",
        "\n",
        "NOT True is False.\n",
        "\n",
        "NOT False is True."
      ],
      "metadata": {
        "id": "wn7oX5UDuR0Z"
      }
    },
    {
      "cell_type": "markdown",
      "source": [
        "4. What are the values of the following expressions?\n",
        "\n",
        "(5 > 4) and (3 == 5)\n",
        "\n",
        "not (5 > 4) \n",
        "\n",
        "(5 > 4) or (3 == 5)\n",
        "\n",
        "not ((5 > 4) or (3 == 5)) \n",
        "\n",
        "(True and True) and (True == False) \n",
        "\n",
        "(not False) or (not True)\n",
        "\n"
      ],
      "metadata": {
        "id": "gHAggQs5uxe9"
      }
    },
    {
      "cell_type": "code",
      "source": [
        "(5 > 4) and (3 == 5)"
      ],
      "metadata": {
        "colab": {
          "base_uri": "https://localhost:8080/"
        },
        "id": "8hCzxsH1we4x",
        "outputId": "dca1cc45-2f36-447f-8076-2862da58df37"
      },
      "execution_count": 1,
      "outputs": [
        {
          "output_type": "execute_result",
          "data": {
            "text/plain": [
              "False"
            ]
          },
          "metadata": {},
          "execution_count": 1
        }
      ]
    },
    {
      "cell_type": "code",
      "source": [
        "not (5 > 4)\n"
      ],
      "metadata": {
        "colab": {
          "base_uri": "https://localhost:8080/"
        },
        "id": "1V4aNLH9wiVX",
        "outputId": "f0269bdb-91f8-4e48-c33d-6f5f59982e07"
      },
      "execution_count": 2,
      "outputs": [
        {
          "output_type": "execute_result",
          "data": {
            "text/plain": [
              "False"
            ]
          },
          "metadata": {},
          "execution_count": 2
        }
      ]
    },
    {
      "cell_type": "code",
      "source": [
        "(5 > 4) or (3 == 5)"
      ],
      "metadata": {
        "colab": {
          "base_uri": "https://localhost:8080/"
        },
        "id": "hbSIYIoJwpuW",
        "outputId": "74cb15f8-dc95-4b52-c552-de2b601f706c"
      },
      "execution_count": 3,
      "outputs": [
        {
          "output_type": "execute_result",
          "data": {
            "text/plain": [
              "True"
            ]
          },
          "metadata": {},
          "execution_count": 3
        }
      ]
    },
    {
      "cell_type": "code",
      "source": [
        "not ((5 > 4) or (3 == 5))"
      ],
      "metadata": {
        "colab": {
          "base_uri": "https://localhost:8080/"
        },
        "id": "m4yj3KXrwq2-",
        "outputId": "defa2b53-1b5d-478f-e0cc-c0b66e5b9d4b"
      },
      "execution_count": 4,
      "outputs": [
        {
          "output_type": "execute_result",
          "data": {
            "text/plain": [
              "False"
            ]
          },
          "metadata": {},
          "execution_count": 4
        }
      ]
    },
    {
      "cell_type": "code",
      "source": [
        "(True and True) and (True == False)"
      ],
      "metadata": {
        "colab": {
          "base_uri": "https://localhost:8080/"
        },
        "id": "wLQEw5hIwzQy",
        "outputId": "a1f8056d-5d15-4e41-f466-1d5a3f7fd05a"
      },
      "execution_count": 5,
      "outputs": [
        {
          "output_type": "execute_result",
          "data": {
            "text/plain": [
              "False"
            ]
          },
          "metadata": {},
          "execution_count": 5
        }
      ]
    },
    {
      "cell_type": "code",
      "source": [
        "(not False) or (not True)"
      ],
      "metadata": {
        "colab": {
          "base_uri": "https://localhost:8080/"
        },
        "id": "6VdKTPSEw2f4",
        "outputId": "1eb6fd39-e51b-44db-a2f7-2e95afa98e89"
      },
      "execution_count": 6,
      "outputs": [
        {
          "output_type": "execute_result",
          "data": {
            "text/plain": [
              "True"
            ]
          },
          "metadata": {},
          "execution_count": 6
        }
      ]
    },
    {
      "cell_type": "markdown",
      "source": [
        "5. What are the six comparison operators?\n",
        "\n",
        "The six operators are: ==, !=, <, >, <=, and >="
      ],
      "metadata": {
        "id": "wFM3dRz9xEf9"
      }
    },
    {
      "cell_type": "markdown",
      "source": [
        "6. How do you tell the difference between the equal to and assignment operators?Describe a condition and when you would use one.\n",
        "\n",
        "The equal is used to store value for an expression where as asignment operator \"==\" is used to compare if a number is equal to another number in a given condition to carry out another command."
      ],
      "metadata": {
        "id": "rAsrYSFqxn7n"
      }
    },
    {
      "cell_type": "markdown",
      "source": [
        "7. Identify the three blocks in this code:\n",
        "\n",
        "spam = 0\n",
        "\n",
        "if spam == 10:\n",
        "\n",
        "print('eggs') \n",
        "\n",
        "if spam > 5:\n",
        "\n",
        "print('bacon') \n",
        "\n",
        "else: \n",
        "\n",
        "print('ham') \n",
        "\n",
        "print('spam') \n",
        "\n",
        "print('spam')\n",
        "\n",
        "The three blocks are everything inside the if statement and the lines print('bacon') and print('ham').\n",
        "print('eggs')\n",
        "if spam > 5:\n",
        "print('bacon')\n",
        "else:\n",
        "print('ham')\n",
        "print('spam')"
      ],
      "metadata": {
        "id": "aDw0X3hT3qS4"
      }
    },
    {
      "cell_type": "markdown",
      "source": [
        "8. Write code that prints Hello if 1 is stored in spam, prints Howdy if 2 is stored in spam, and prints Greetings! if anything else is stored in spam.\n",
        "\n",
        "if 'spam' == 1:\n",
        "\n",
        "  print(\"Hello\")\n",
        "\n",
        "elif 'spam' == 2:\n",
        "\n",
        "  print(\"Howdy\")\n",
        "\n",
        "else:\n",
        "\n",
        "  print(\"Greetings!\")"
      ],
      "metadata": {
        "id": "ySEkS4kO6Li0"
      }
    },
    {
      "cell_type": "markdown",
      "source": [
        "9.If your programme is stuck in an endless loop, what keys you’ll press?\n",
        "\n",
        "Press CTRL+C to stop a program stuck in an infinite loop."
      ],
      "metadata": {
        "id": "AJtuOMmz7C-x"
      }
    },
    {
      "cell_type": "markdown",
      "source": [
        "10. How can you tell the difference between break and continue?\n",
        "\n",
        "a)The break statement will move the execution outside the loop. The continue statement will move the execution to the start of the loop.\n",
        "\n",
        "b)The break statement execution will not be executed the else block whereas continue statement will execute the else block."
      ],
      "metadata": {
        "id": "jwwUDBNc7LUa"
      }
    },
    {
      "cell_type": "markdown",
      "source": [
        "11. In a for loop, what is the difference between range(10), range(0, 10), and range(0, 10, 1)?\n",
        "\n",
        "They all do the same thing. The range(10) call ranges from 0 up to (excluding) 10, range(0, 10) explicitly tells the loop to start at 0, and range(0, 10, 1) explicitly tells the loop to increase the variable by 1 on each iteration."
      ],
      "metadata": {
        "id": "n1vMbXow8a9o"
      }
    },
    {
      "cell_type": "markdown",
      "source": [
        "12. Write a short program that prints the numbers 1 to 10 using a for loop. Then write an equivalent program that prints the numbers 1 to 10 using a while loop."
      ],
      "metadata": {
        "id": "xf_e7S1S8tCQ"
      }
    },
    {
      "cell_type": "code",
      "source": [
        "for i in range(1, 11):\n",
        "  print(i)"
      ],
      "metadata": {
        "colab": {
          "base_uri": "https://localhost:8080/"
        },
        "id": "FFvDJtr18xbL",
        "outputId": "c19e6c29-c190-4154-c6b4-b1a12ec3cd59"
      },
      "execution_count": 7,
      "outputs": [
        {
          "output_type": "stream",
          "name": "stdout",
          "text": [
            "1\n",
            "2\n",
            "3\n",
            "4\n",
            "5\n",
            "6\n",
            "7\n",
            "8\n",
            "9\n",
            "10\n"
          ]
        }
      ]
    },
    {
      "cell_type": "code",
      "source": [
        "i = 1\n",
        "while i <=10:\n",
        "  print(i)\n",
        "  i = i+1"
      ],
      "metadata": {
        "colab": {
          "base_uri": "https://localhost:8080/"
        },
        "id": "_m-Gi2PI82j5",
        "outputId": "b27885a6-4279-4b92-de68-e7b461f05e0f"
      },
      "execution_count": 9,
      "outputs": [
        {
          "output_type": "stream",
          "name": "stdout",
          "text": [
            "1\n",
            "2\n",
            "3\n",
            "4\n",
            "5\n",
            "6\n",
            "7\n",
            "8\n",
            "9\n",
            "10\n"
          ]
        }
      ]
    },
    {
      "cell_type": "markdown",
      "source": [
        "13. If you had a function named bacon() inside a module named spam, how would you call it after importing spam?\n",
        "\n",
        "\n",
        "This function can be called with spam.bacon()."
      ],
      "metadata": {
        "id": "eqV39tKz9Mti"
      }
    }
  ]
}