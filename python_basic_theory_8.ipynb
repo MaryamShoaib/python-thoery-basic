{
  "nbformat": 4,
  "nbformat_minor": 0,
  "metadata": {
    "colab": {
      "provenance": []
    },
    "kernelspec": {
      "name": "python3",
      "display_name": "Python 3"
    },
    "language_info": {
      "name": "python"
    }
  },
  "cells": [
    {
      "cell_type": "markdown",
      "source": [
        "1. Is the Python Standard Library included with PyInputPlus?\n",
        "\n",
        "  No. PyInputPlus is a third-party module and doesn’t come with the Python Standard Library."
      ],
      "metadata": {
        "id": "wfJPqeK--v85"
      }
    },
    {
      "cell_type": "markdown",
      "source": [
        "2. Why is PyInputPlus commonly imported with import pyinputplus as pypi?\n",
        "\n",
        "  This optionally makes your code shorter to type: you can type pyip.inputStr() instead of pyinputplus.inputStr()."
      ],
      "metadata": {
        "id": "yK-O6tBT_eNM"
      }
    },
    {
      "cell_type": "markdown",
      "source": [
        "3. How do you distinguish between inputInt() and inputFloat()?\n",
        "\n",
        "  The inputInt() function returns an int value, while the inputFloat() function returns a float value. This is the difference between returning 4 and 4.0."
      ],
      "metadata": {
        "id": "u_1UdYJy_nyY"
      }
    },
    {
      "cell_type": "markdown",
      "source": [
        "4. Using PyInputPlus, how do you ensure that the user enters a whole number between 0 and 99?\n",
        "\n",
        "  Call pyip.inputint(min=0, max=99)."
      ],
      "metadata": {
        "id": "78R37x88_yWE"
      }
    },
    {
      "cell_type": "markdown",
      "source": [
        "5. What is transferred to the keyword arguments allowRegexes and blockRegexes?\n",
        "\n",
        "  A list of regex strings that are either explicitly allowed or denied"
      ],
      "metadata": {
        "id": "XlcxGOJO_72V"
      }
    },
    {
      "cell_type": "markdown",
      "source": [
        "6. If a blank input is entered three times, what does inputStr(limit=3) do?\n",
        "\n",
        "  A list of regex strings that are either explicitly allowed or denied"
      ],
      "metadata": {
        "id": "a-nJjnQdACKV"
      }
    },
    {
      "cell_type": "markdown",
      "source": [
        "7. If blank input is entered three times, what does inputStr(limit=3, default='hello') do?\n",
        "\n",
        "  The function returns the value 'hello'."
      ],
      "metadata": {
        "id": "PCpgHpINAN63"
      }
    }
  ]
}