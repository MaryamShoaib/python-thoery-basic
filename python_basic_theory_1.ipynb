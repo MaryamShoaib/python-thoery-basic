{
  "nbformat": 4,
  "nbformat_minor": 0,
  "metadata": {
    "colab": {
      "provenance": []
    },
    "kernelspec": {
      "name": "python3",
      "display_name": "Python 3"
    },
    "language_info": {
      "name": "python"
    }
  },
  "cells": [
    {
      "cell_type": "markdown",
      "source": [
        "1. In the below elements which of them are values or an expression? eg:- values can be integer or string and expressions will be mathematical operators.\n",
        "\n",
        "'hello'= values \n",
        "\n",
        "-87.8 = values \n",
        "\n",
        "6 = values\n",
        "\n",
        "- = expression\n",
        "\n",
        "/ = expression\n",
        "\n",
        "+ = expression"
      ],
      "metadata": {
        "id": "5jygLprd083O"
      }
    },
    {
      "cell_type": "markdown",
      "source": [
        "2. What is the difference between string and variable?\n",
        "\n",
        "a)A variable is something that stores data - it can store a string, int, float, class, etc. Whereas a string is something that has text string in it.\n",
        "\n",
        "b)All strings are variables, but not all variables are strings.\n",
        "\n",
        "c)Variables in programs are references to values that have types. String is simply one of the handful of types that Python uses along with various number types, collection types (list, string , tuple, dict, and set), objects and a few more.\n",
        "\n",
        "d)A variable can hold a string, however a string cannot do so.\n",
        "\n",
        "e)A variable can store everything from strings to numbers. Whereas a string is the values inside the quotes assigned to a string.\n",
        "\n",
        "f)In python anything you assign to a variable using quotes (single or double) will be considered as a string. Thus, a string is one of several types of a variable.\n"
      ],
      "metadata": {
        "id": "jyBL5j5Q2bQz"
      }
    },
    {
      "cell_type": "markdown",
      "source": [
        "3.Describe three different data types.\n",
        "\n",
        "a)List is a collection which is ordered, changeable and can have duplicate members. eg:-mylist = [\"ant\", \"bettle\", \"catepillar\"]\n",
        "\n",
        "b)Tuple is a collection which is ordered, unchangeable and can have duplicate members. eg:-tuple = (\"abc\", 54, True, 4056, \"hello\")\n",
        "\n",
        "c)Set is a collection which is unordered, unindexed and does not allow duplicate members. eg:-myset = {\"apple\", \"banana\", \"cherry\"}\n",
        "\n",
        "d)Dictionary is a collection which is ordered, changeable and does not allow duplicate members. eg:-dict = { \"brand\": \"Ford\", \"model\": \"Mustang\", \"year\": 1964 }"
      ],
      "metadata": {
        "id": "XUB5FF7TigxP"
      }
    },
    {
      "cell_type": "markdown",
      "source": [
        "4. What is an expression made up of? What do all expressions do?\n",
        "\n",
        "An expression is a combination of values, variables and operators. All expressions reduce to a single value."
      ],
      "metadata": {
        "id": "3JDvdbVwjoAC"
      }
    },
    {
      "cell_type": "markdown",
      "source": [
        "5. This assignment statements, like spam = 10. What is the difference between an expression and a statement?\n",
        "\n",
        "a)An expression represent to a single value whereas a statement does not.\n",
        "\n",
        "b)Statements represent an action or command e.g print statement\n",
        "whereas expression is a combination of variables, operations and values that yields a result value.Eg. 2+3=5"
      ],
      "metadata": {
        "id": "4wo0BbZoknx1"
      }
    },
    {
      "cell_type": "markdown",
      "source": [
        "6. After running the following code, what does the variable bacon contain?\n",
        "\n",
        "bacon = 22 bacon + 1"
      ],
      "metadata": {
        "id": "AWEiUVgvlx-q"
      }
    },
    {
      "cell_type": "code",
      "source": [
        "bacon = 22"
      ],
      "metadata": {
        "id": "5WHy0f0Qm_kt"
      },
      "execution_count": 1,
      "outputs": []
    },
    {
      "cell_type": "code",
      "source": [
        "bacon + 1 "
      ],
      "metadata": {
        "colab": {
          "base_uri": "https://localhost:8080/"
        },
        "id": "Y282VictnHIH",
        "outputId": "7bbb425a-c41c-4826-be68-c1e4f7b5e3de"
      },
      "execution_count": 2,
      "outputs": [
        {
          "output_type": "execute_result",
          "data": {
            "text/plain": [
              "23"
            ]
          },
          "metadata": {},
          "execution_count": 2
        }
      ]
    },
    {
      "cell_type": "code",
      "source": [
        "bacon"
      ],
      "metadata": {
        "colab": {
          "base_uri": "https://localhost:8080/"
        },
        "id": "kroogc6fnNti",
        "outputId": "ed6521e7-efc1-47af-e688-2e8f0a13c409"
      },
      "execution_count": 3,
      "outputs": [
        {
          "output_type": "execute_result",
          "data": {
            "text/plain": [
              "22"
            ]
          },
          "metadata": {},
          "execution_count": 3
        }
      ]
    },
    {
      "cell_type": "markdown",
      "source": [
        "The variable bacon is equal to 22. The expression bacon + 1 doesnot change the value of bacon. If we want to change bacon value to 23 than we need to write bacon = bacon + 1."
      ],
      "metadata": {
        "id": "QGgTavhQlvBN"
      }
    },
    {
      "cell_type": "markdown",
      "source": [
        "7. What should the values of the following two terms be?\n",
        "\n",
        "'spam' + 'spamspam' \n",
        "\n",
        "'spam' * 3"
      ],
      "metadata": {
        "id": "3-8aF7Qhlw19"
      }
    },
    {
      "cell_type": "code",
      "source": [
        "'spam' + 'spamspam'"
      ],
      "metadata": {
        "colab": {
          "base_uri": "https://localhost:8080/",
          "height": 35
        },
        "id": "EBPs0kxpn_Q8",
        "outputId": "f75eecf3-f075-429f-9849-ff8b66f18b19"
      },
      "execution_count": 4,
      "outputs": [
        {
          "output_type": "execute_result",
          "data": {
            "text/plain": [
              "'spamspamspam'"
            ],
            "application/vnd.google.colaboratory.intrinsic+json": {
              "type": "string"
            }
          },
          "metadata": {},
          "execution_count": 4
        }
      ]
    },
    {
      "cell_type": "code",
      "source": [
        "'spam'*3"
      ],
      "metadata": {
        "colab": {
          "base_uri": "https://localhost:8080/",
          "height": 35
        },
        "id": "A63P5K3qoEdG",
        "outputId": "6cf5bdd7-7dec-4bab-c5a5-e1bfafbf992e"
      },
      "execution_count": 5,
      "outputs": [
        {
          "output_type": "execute_result",
          "data": {
            "text/plain": [
              "'spamspamspam'"
            ],
            "application/vnd.google.colaboratory.intrinsic+json": {
              "type": "string"
            }
          },
          "metadata": {},
          "execution_count": 5
        }
      ]
    },
    {
      "cell_type": "markdown",
      "source": [
        "The value for both terms are same because the string concatenate and give the same answer with addition and multiplication."
      ],
      "metadata": {
        "id": "RxQqnFeOoIGc"
      }
    },
    {
      "cell_type": "markdown",
      "source": [
        "8. Why is eggs a valid variable name while 100 is invalid?\n",
        "\n",
        "100 is an invalid variable because variable cannot start with numbers."
      ],
      "metadata": {
        "id": "XNlH-Nukowqg"
      }
    },
    {
      "cell_type": "markdown",
      "source": [
        "9. What three functions can be used to get the integer, floating-point number, or string version of a value?\n",
        "\n",
        "The int(), str() and float() are the function used to pass a value and make value of respective type."
      ],
      "metadata": {
        "id": "H4dXp0JLqBbs"
      }
    },
    {
      "cell_type": "markdown",
      "source": [
        "10. Why does this expression cause an error? How can you fix it?\n",
        "'I have eaten ' + 99 + ' burritos.'\n",
        "\n",
        "This expression causes error because \"I have eaten\" and \"burritos\" are string data type and to get a expression like \"I have eaten 99 burritos\" we need to make 99 a string so that it can concatenate."
      ],
      "metadata": {
        "id": "jHt1bLC-q56V"
      }
    }
  ]
}