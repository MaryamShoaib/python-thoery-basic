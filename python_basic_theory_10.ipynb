{
  "nbformat": 4,
  "nbformat_minor": 0,
  "metadata": {
    "colab": {
      "provenance": []
    },
    "kernelspec": {
      "name": "python3",
      "display_name": "Python 3"
    },
    "language_info": {
      "name": "python"
    }
  },
  "cells": [
    {
      "cell_type": "markdown",
      "source": [
        "1. How do you distinguish between shutil.copy() and shutil.copytree()?\n",
        "\n",
        "  The shutil.copy() function will copy a single file, while shutil.copytree() will copy an entire folder, along with all its contents."
      ],
      "metadata": {
        "id": "LReXMoYbD7qK"
      }
    },
    {
      "cell_type": "markdown",
      "source": [
        "2. What function is used to rename files?\n",
        "\n",
        "  The shutil.move() function is used for renaming files as well as moving them."
      ],
      "metadata": {
        "id": "i_bX6aDqEQMt"
      }
    },
    {
      "cell_type": "markdown",
      "source": [
        "3. What is the difference between the delete functions in the send2trash and shutil modules?\n",
        "\n",
        "  The send2trash functions will move a file or folder to the recycle bin, while shutil functions will permanently delete files and folders."
      ],
      "metadata": {
        "id": "AcdnuLQoEYc8"
      }
    },
    {
      "cell_type": "markdown",
      "source": [
        "3. What is the difference between the delete functions in the send2trash and shutil modules?\n",
        "\n",
        "  The send2trash functions will move a file or folder to the recycle bin, while shutil functions will permanently delete files and folders."
      ],
      "metadata": {
        "id": "KTwoC-wNEhg5"
      }
    },
    {
      "cell_type": "markdown",
      "source": [
        "5. Create a programme that searches a folder tree for files with a certain file extension (such as .pdf or .jpg). Copy these files from whatever location they are in to a new folder."
      ],
      "metadata": {
        "id": "dH7G4HYmEvWJ"
      }
    },
    {
      "cell_type": "code",
      "source": [
        "import os, shutil\n",
        "\n",
        "def selectiveCopy(folder, extensions, destFolder):\n",
        "\tfolder = os.path.abspath(folder)\n",
        "\tdestFolder = os.path.abspath(destFolder)\n",
        "\tprint('Looking in', folder, 'for files with extensions of', ', '.join(extensions))\n",
        "\tfor foldername, subfolders, filenames in os.walk(folder):\n",
        "\t\tfor filename in filenames:\n",
        "\t\t\tname, extension = os.path.splitext(filename)\n",
        "\t\t\tif extension in extensions:\n",
        "\t\t\t\tfileAbsPath = foldername + os.path.sep + filename\n",
        "\t\t\t\tprint('Coping', fileAbsPath, 'to', destFolder)\n",
        "\t\t\t\tshutil.copy(fileAbsPath, destFolder)\n",
        "\n",
        "extensions = ['.pdf', '.jpg']\n",
        "folder = 'randomFolder'\n",
        "destFolder = 'selectiveFolder'\n",
        "selectiveCopy(folder, extensions, destFolder)\n"
      ],
      "metadata": {
        "colab": {
          "base_uri": "https://localhost:8080/"
        },
        "id": "hLD6DtxrE0ue",
        "outputId": "7c0a7bda-3580-42a6-a909-df5328f5a741"
      },
      "execution_count": 1,
      "outputs": [
        {
          "output_type": "stream",
          "name": "stdout",
          "text": [
            "Looking in /content/randomFolder for files with extensions of .pdf, .jpg\n"
          ]
        }
      ]
    }
  ]
}