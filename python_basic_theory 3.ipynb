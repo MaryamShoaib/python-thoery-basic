{
  "nbformat": 4,
  "nbformat_minor": 0,
  "metadata": {
    "colab": {
      "provenance": []
    },
    "kernelspec": {
      "name": "python3",
      "display_name": "Python 3"
    },
    "language_info": {
      "name": "python"
    }
  },
  "cells": [
    {
      "cell_type": "markdown",
      "source": [
        "1. Why are functions advantageous to have in your programs?\n",
        "\n",
        "Functions are advantagoeus because it reduce the time of coding by reducing the duplication of code. It makes the program shorter, easier to reand and update."
      ],
      "metadata": {
        "id": "QwnHwWKlkKYw"
      }
    },
    {
      "cell_type": "markdown",
      "source": [
        "2. When does the code in a function run: when it&#39;s specified or when it&#39;s called?\n",
        "\n",
        "The code in the function runs when it's is called."
      ],
      "metadata": {
        "id": "qIHtVBRslfvw"
      }
    },
    {
      "cell_type": "markdown",
      "source": [
        "3. What statement creates a function?\n",
        "\n",
        "the statement \"def\" means define creates a function."
      ],
      "metadata": {
        "id": "nXx__UF8l-zg"
      }
    },
    {
      "cell_type": "markdown",
      "source": [
        "4. What is the difference between a function and a function call?\n",
        "\n",
        "A function is when we define a function and write the code. In this perform we define what the function will do when it is called. A function call is when the execution of the function happens. "
      ],
      "metadata": {
        "id": "1W8oln3bmT3_"
      }
    },
    {
      "cell_type": "markdown",
      "source": [
        "5. How many global scopes are there in a Python program? How many local scopes?\n",
        "\n",
        "There is one global scopes and a local scope is created when a function is called."
      ],
      "metadata": {
        "id": "JbxBHwRzn6PC"
      }
    },
    {
      "cell_type": "markdown",
      "source": [
        "6. What happens to variables in a local scope when the function call returns?\n",
        "\n",
        "When a function returns, the local scope is destroyed, and all the variables in it are forgotten."
      ],
      "metadata": {
        "id": "_yt6E2P-qAfi"
      }
    },
    {
      "cell_type": "markdown",
      "source": [
        "7. What is the concept of a return value? Is it possible to have a return value in an expression?\n",
        "\n",
        "A return value is used to end the execution of a function. A return value cannot be used in an expression. It is only used in function."
      ],
      "metadata": {
        "id": "LucyiHD3qTyJ"
      }
    },
    {
      "cell_type": "markdown",
      "source": [
        "8. If a function does not have a return statement, what is the return value of a call to that function?\n",
        "\n",
        "A function that does not return a value is called a non-value returning function (or a void function). A void function will automatically return to the caller at the end of the function"
      ],
      "metadata": {
        "id": "ZOYt0YKLsSGe"
      }
    },
    {
      "cell_type": "markdown",
      "source": [
        "9. How do you make a function variable refer to the global variable?\n",
        "\n",
        "If you want to refer to a global variable in a function, you can use the global keyword to declare which variables are global."
      ],
      "metadata": {
        "id": "lQ2ovakIti0M"
      }
    },
    {
      "cell_type": "markdown",
      "source": [
        "10. What is the data type of None?\n",
        "\n",
        "The data type of None is None Type."
      ],
      "metadata": {
        "id": "lElk0jZdunNA"
      }
    },
    {
      "cell_type": "markdown",
      "source": [
        "11. What does the sentence import areallyourpetsnamederic do?\n",
        "\n",
        "\n",
        "That import statement imports a module named areallyourpetsnamederic."
      ],
      "metadata": {
        "id": "4KQ6xCFtvEOI"
      }
    },
    {
      "cell_type": "markdown",
      "source": [
        "12. If you had a bacon() feature in a spam module, what would you call it after importing spam?\n",
        "\n",
        "This function can be called with spam.bacon()."
      ],
      "metadata": {
        "id": "JUY9RWUivZ9k"
      }
    },
    {
      "cell_type": "markdown",
      "source": [
        "13. What can you do to save a programme from crashing if it encounters an error?\n",
        "\n",
        "Place the line of code that might cause an error in a try clause."
      ],
      "metadata": {
        "id": "UxAALn3zClVv"
      }
    },
    {
      "cell_type": "markdown",
      "source": [
        "14. What is the purpose of the try clause? What is the purpose of the except clause?\n",
        "\n",
        "The code that could potentially cause an error goes in the try clause.The code that executes if an error happens goes in the except clause."
      ],
      "metadata": {
        "id": "uR3Wax-8C3sH"
      }
    }
  ]
}